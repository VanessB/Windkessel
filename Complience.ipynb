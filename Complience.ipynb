{
 "cells": [
  {
   "cell_type": "markdown",
   "id": "established-prior",
   "metadata": {},
   "source": [
    "# Compliance"
   ]
  },
  {
   "cell_type": "code",
   "execution_count": 1,
   "id": "legislative-conducting",
   "metadata": {},
   "outputs": [],
   "source": [
    "import numpy as np\n",
    "import torch"
   ]
  },
  {
   "cell_type": "code",
   "execution_count": 2,
   "id": "amateur-company",
   "metadata": {},
   "outputs": [],
   "source": [
    "import pandas as pd"
   ]
  },
  {
   "cell_type": "code",
   "execution_count": 3,
   "id": "assisted-cooperative",
   "metadata": {},
   "outputs": [],
   "source": [
    "import matplotlib\n",
    "import matplotlib.pyplot as plt\n",
    "\n",
    "font = {'family' : 'Liberation Sans',\n",
    "        'weight' : 'normal',\n",
    "        'size'   : 20}\n",
    "\n",
    "matplotlib.rc('font', **font)"
   ]
  },
  {
   "cell_type": "code",
   "execution_count": 4,
   "id": "grave-burden",
   "metadata": {},
   "outputs": [],
   "source": [
    "from scipy.integrate import simps\n",
    "from scipy.integrate import solve_ivp\n",
    "from scipy.optimize import minimize"
   ]
  },
  {
   "cell_type": "code",
   "execution_count": 5,
   "id": "polished-spare",
   "metadata": {},
   "outputs": [],
   "source": [
    "import sys\n",
    "sys.path.insert(0, './python')"
   ]
  },
  {
   "cell_type": "code",
   "execution_count": 6,
   "id": "facial-proof",
   "metadata": {},
   "outputs": [],
   "source": [
    "def plot_x_y(x, y, x_label=\"x\", y_label=\"y\"):\n",
    "    fig = plt.figure()\n",
    "    ax = fig.gca()\n",
    "    fig.set_figheight(8)\n",
    "    fig.set_figwidth(16)\n",
    "    ax.grid(color='#000000', alpha=0.15, linestyle='-', linewidth=1, which='major')\n",
    "    ax.grid(color='#000000', alpha=0.1, linestyle='-', linewidth=0.5, which='minor')\n",
    "    \n",
    "    ax.plot(x, y)\n",
    "    \n",
    "    ax.set_xlabel(x_label)\n",
    "    ax.set_ylabel(y_label)"
   ]
  },
  {
   "cell_type": "code",
   "execution_count": 7,
   "id": "silver-speed",
   "metadata": {},
   "outputs": [],
   "source": [
    "def print_model_params(wk_model):\n",
    "    print(\"Параетры модели: \")\n",
    "    print(\"R:\\t%.2f\" % test_model.R)\n",
    "    print(\"Z_0:\\t%.4f\" % test_model.Z_0)\n",
    "    print(\"C:\\t%.2f\" % test_model.C)\n",
    "    print(\"P_out:\\t%.2f\" % test_model.P_out)"
   ]
  },
  {
   "cell_type": "code",
   "execution_count": 8,
   "id": "statutory-attack",
   "metadata": {},
   "outputs": [],
   "source": [
    "from windkessel import model, utils"
   ]
  },
  {
   "cell_type": "code",
   "execution_count": 9,
   "id": "executive-discussion",
   "metadata": {},
   "outputs": [],
   "source": [
    "import re\n",
    "from os import listdir\n",
    "\n",
    "filenames = listdir(\"./data\")\n",
    "IDs = [int(filename[0:-4]) for filename in filenames if re.match(r\".*\\.csv$\", filename)]"
   ]
  },
  {
   "cell_type": "markdown",
   "id": "outer-bangladesh",
   "metadata": {},
   "source": [
    "## Данные о пациентах"
   ]
  },
  {
   "cell_type": "code",
   "execution_count": 10,
   "id": "regional-dispute",
   "metadata": {},
   "outputs": [],
   "source": [
    "def prepare_data(data_frame):\n",
    "    data_frame = data_frame[data_frame.index.notnull()]\n",
    "    data_frame.index = data_frame.index.astype('uint64')\n",
    "    data_frame = data_frame.drop(columns=[\"ФИО\"])\n",
    "    return data_frame"
   ]
  },
  {
   "cell_type": "code",
   "execution_count": 11,
   "id": "interested-rubber",
   "metadata": {},
   "outputs": [],
   "source": [
    "data_patients = prepare_data(pd.read_excel(f'data/data_patients.xlsx', index_col=\"ID\"))\n",
    "data_PWV = prepare_data(pd.read_excel(f'data/data_PWV.xlsx', index_col=\"ID\"))"
   ]
  },
  {
   "cell_type": "code",
   "execution_count": 12,
   "id": "vietnamese-milwaukee",
   "metadata": {},
   "outputs": [],
   "source": [
    "data_patients = data_patients[data_patients.index.isin(IDs)]\n",
    "data_patients = data_patients.join(data_PWV[\"PWV_ba\"])"
   ]
  },
  {
   "cell_type": "code",
   "execution_count": 13,
   "id": "agreed-vacuum",
   "metadata": {},
   "outputs": [],
   "source": [
    "data_patients[\"SV\"] = data_patients[\"ФВ\"] * data_patients[\"КДО\"] / 100.0"
   ]
  },
  {
   "cell_type": "code",
   "execution_count": 14,
   "id": "numerous-accent",
   "metadata": {},
   "outputs": [
    {
     "data": {
      "text/html": [
       "<div>\n",
       "<style scoped>\n",
       "    .dataframe tbody tr th:only-of-type {\n",
       "        vertical-align: middle;\n",
       "    }\n",
       "\n",
       "    .dataframe tbody tr th {\n",
       "        vertical-align: top;\n",
       "    }\n",
       "\n",
       "    .dataframe thead th {\n",
       "        text-align: right;\n",
       "    }\n",
       "</style>\n",
       "<table border=\"1\" class=\"dataframe\">\n",
       "  <thead>\n",
       "    <tr style=\"text-align: right;\">\n",
       "      <th></th>\n",
       "      <th>№</th>\n",
       "      <th>дата</th>\n",
       "      <th>Возраст</th>\n",
       "      <th>Пол</th>\n",
       "      <th>Рост</th>\n",
       "      <th>Вес</th>\n",
       "      <th>ИМТ</th>\n",
       "      <th>ЧСС</th>\n",
       "      <th>E</th>\n",
       "      <th>A</th>\n",
       "      <th>...</th>\n",
       "      <th>RB САД</th>\n",
       "      <th>LB САД</th>\n",
       "      <th>RA САД</th>\n",
       "      <th>LA САД</th>\n",
       "      <th>RB ДИА</th>\n",
       "      <th>LB ДИА</th>\n",
       "      <th>RA ДИА</th>\n",
       "      <th>LA ДИА</th>\n",
       "      <th>PWV_ba</th>\n",
       "      <th>SV</th>\n",
       "    </tr>\n",
       "    <tr>\n",
       "      <th>ID</th>\n",
       "      <th></th>\n",
       "      <th></th>\n",
       "      <th></th>\n",
       "      <th></th>\n",
       "      <th></th>\n",
       "      <th></th>\n",
       "      <th></th>\n",
       "      <th></th>\n",
       "      <th></th>\n",
       "      <th></th>\n",
       "      <th></th>\n",
       "      <th></th>\n",
       "      <th></th>\n",
       "      <th></th>\n",
       "      <th></th>\n",
       "      <th></th>\n",
       "      <th></th>\n",
       "      <th></th>\n",
       "      <th></th>\n",
       "      <th></th>\n",
       "      <th></th>\n",
       "    </tr>\n",
       "  </thead>\n",
       "  <tbody>\n",
       "    <tr>\n",
       "      <th>123313</th>\n",
       "      <td>147.0</td>\n",
       "      <td>2019-11-29</td>\n",
       "      <td>31.0</td>\n",
       "      <td>1.0</td>\n",
       "      <td>171.0</td>\n",
       "      <td>86.0</td>\n",
       "      <td>29.5</td>\n",
       "      <td>72.0</td>\n",
       "      <td>112.0</td>\n",
       "      <td>70.0</td>\n",
       "      <td>...</td>\n",
       "      <td>96.0</td>\n",
       "      <td>97</td>\n",
       "      <td>97.0</td>\n",
       "      <td>100.0</td>\n",
       "      <td>77.0</td>\n",
       "      <td>78.0</td>\n",
       "      <td>74.0</td>\n",
       "      <td>76.0</td>\n",
       "      <td>6.582915</td>\n",
       "      <td>31.92</td>\n",
       "    </tr>\n",
       "    <tr>\n",
       "      <th>123645</th>\n",
       "      <td>151.0</td>\n",
       "      <td>2019-12-04</td>\n",
       "      <td>44.0</td>\n",
       "      <td>1.0</td>\n",
       "      <td>170.0</td>\n",
       "      <td>100.0</td>\n",
       "      <td>34.6</td>\n",
       "      <td>71.0</td>\n",
       "      <td>77.0</td>\n",
       "      <td>61.0</td>\n",
       "      <td>...</td>\n",
       "      <td>95.0</td>\n",
       "      <td>97</td>\n",
       "      <td>98.0</td>\n",
       "      <td>109.0</td>\n",
       "      <td>80.0</td>\n",
       "      <td>86.0</td>\n",
       "      <td>74.0</td>\n",
       "      <td>77.0</td>\n",
       "      <td>5.603448</td>\n",
       "      <td>73.92</td>\n",
       "    </tr>\n",
       "    <tr>\n",
       "      <th>124235</th>\n",
       "      <td>155.0</td>\n",
       "      <td>2019-12-11</td>\n",
       "      <td>23.0</td>\n",
       "      <td>1.0</td>\n",
       "      <td>183.0</td>\n",
       "      <td>68.0</td>\n",
       "      <td>20.3</td>\n",
       "      <td>56.0</td>\n",
       "      <td>78.0</td>\n",
       "      <td>45.0</td>\n",
       "      <td>...</td>\n",
       "      <td>89.0</td>\n",
       "      <td>92</td>\n",
       "      <td>83.0</td>\n",
       "      <td>86.0</td>\n",
       "      <td>71.0</td>\n",
       "      <td>71.0</td>\n",
       "      <td>59.0</td>\n",
       "      <td>67.0</td>\n",
       "      <td>6.194690</td>\n",
       "      <td>60.48</td>\n",
       "    </tr>\n",
       "    <tr>\n",
       "      <th>124238</th>\n",
       "      <td>156.0</td>\n",
       "      <td>2019-12-11</td>\n",
       "      <td>23.0</td>\n",
       "      <td>1.0</td>\n",
       "      <td>190.0</td>\n",
       "      <td>100.0</td>\n",
       "      <td>27.7</td>\n",
       "      <td>48.0</td>\n",
       "      <td>135.0</td>\n",
       "      <td>62.0</td>\n",
       "      <td>...</td>\n",
       "      <td>84.0</td>\n",
       "      <td>95q</td>\n",
       "      <td>82.0</td>\n",
       "      <td>91.0</td>\n",
       "      <td>62.0</td>\n",
       "      <td>73.0</td>\n",
       "      <td>55.0</td>\n",
       "      <td>61.0</td>\n",
       "      <td>5.530303</td>\n",
       "      <td>73.92</td>\n",
       "    </tr>\n",
       "    <tr>\n",
       "      <th>124625</th>\n",
       "      <td>165.0</td>\n",
       "      <td>2019-12-16</td>\n",
       "      <td>71.0</td>\n",
       "      <td>2.0</td>\n",
       "      <td>156.0</td>\n",
       "      <td>78.0</td>\n",
       "      <td>32.1</td>\n",
       "      <td>73.0</td>\n",
       "      <td>58.0</td>\n",
       "      <td>81.0</td>\n",
       "      <td>...</td>\n",
       "      <td>114.0</td>\n",
       "      <td>110</td>\n",
       "      <td>117.0</td>\n",
       "      <td>113.0</td>\n",
       "      <td>95.0</td>\n",
       "      <td>86.0</td>\n",
       "      <td>85.0</td>\n",
       "      <td>80.0</td>\n",
       "      <td>10.084746</td>\n",
       "      <td>35.88</td>\n",
       "    </tr>\n",
       "  </tbody>\n",
       "</table>\n",
       "<p>5 rows × 85 columns</p>\n",
       "</div>"
      ],
      "text/plain": [
       "            №       дата  Возраст  Пол   Рост    Вес   ИМТ   ЧСС      E     A  \\\n",
       "ID                                                                              \n",
       "123313  147.0 2019-11-29     31.0  1.0  171.0   86.0  29.5  72.0  112.0  70.0   \n",
       "123645  151.0 2019-12-04     44.0  1.0  170.0  100.0  34.6  71.0   77.0  61.0   \n",
       "124235  155.0 2019-12-11     23.0  1.0  183.0   68.0  20.3  56.0   78.0  45.0   \n",
       "124238  156.0 2019-12-11     23.0  1.0  190.0  100.0  27.7  48.0  135.0  62.0   \n",
       "124625  165.0 2019-12-16     71.0  2.0  156.0   78.0  32.1  73.0   58.0  81.0   \n",
       "\n",
       "        ...  RB САД  LB САД  RA САД  LA САД  RB ДИА  LB ДИА RA ДИА  LA ДИА  \\\n",
       "ID      ...                                                                  \n",
       "123313  ...    96.0      97    97.0   100.0    77.0    78.0   74.0    76.0   \n",
       "123645  ...    95.0      97    98.0   109.0    80.0    86.0   74.0    77.0   \n",
       "124235  ...    89.0      92    83.0    86.0    71.0    71.0   59.0    67.0   \n",
       "124238  ...    84.0     95q    82.0    91.0    62.0    73.0   55.0    61.0   \n",
       "124625  ...   114.0     110   117.0   113.0    95.0    86.0   85.0    80.0   \n",
       "\n",
       "           PWV_ba     SV  \n",
       "ID                        \n",
       "123313   6.582915  31.92  \n",
       "123645   5.603448  73.92  \n",
       "124235   6.194690  60.48  \n",
       "124238   5.530303  73.92  \n",
       "124625  10.084746  35.88  \n",
       "\n",
       "[5 rows x 85 columns]"
      ]
     },
     "execution_count": 14,
     "metadata": {},
     "output_type": "execute_result"
    }
   ],
   "source": [
    "data_patients.head()"
   ]
  },
  {
   "cell_type": "markdown",
   "id": "trying-wireless",
   "metadata": {},
   "source": [
    "## Получение ёмкостей"
   ]
  },
  {
   "cell_type": "code",
   "execution_count": 15,
   "id": "encouraging-preview",
   "metadata": {},
   "outputs": [],
   "source": [
    "def get_C(patient_id):\n",
    "    print(patient_id)\n",
    "    \n",
    "    # Создание модели.\n",
    "    wk_model = model.WindkesselModel()\n",
    "    \n",
    "    # Получение данных.\n",
    "    tp = pd.read_csv(f'data/{patient_id}.csv', header = None, sep = ' ')\n",
    "    \n",
    "    # t в секундах, p в мм.рт.ст.\n",
    "    tp = tp.rename({0 :'t', 1: 'p'}, axis = 1)\n",
    "    tp = tp.sort_values(by=['t'])\n",
    "    \n",
    "    T = np.array(tp['t'])\n",
    "    P = np.array(tp['p'])\n",
    "    \n",
    "    # Фильтрация.\n",
    "    n_points = 200\n",
    "    interp1d_params = {}\n",
    "    savgol_filter_params = {\"window_length\": 9, \"polyorder\": 3, \"mode\": \"nearest\"}\n",
    "\n",
    "    T, P = utils.nonuniform_savgol_filter(T, P, n_points=n_points,\n",
    "            interp1d_params=interp1d_params, savgol_filter_params=savgol_filter_params)\n",
    "\n",
    "    # Производная.\n",
    "    savgol_filter_params[\"deriv\"] = 1\n",
    "    T, der_P = utils.nonuniform_savgol_filter(T, P, n_points=n_points,\n",
    "            interp1d_params=interp1d_params, savgol_filter_params=savgol_filter_params)\n",
    "    \n",
    "    wk_model.set_P(T, P, der_P)\n",
    "    \n",
    "    # Подсчёт RC\n",
    "    P_0, RC, P_out = wk_model.get_exp_param()\n",
    "    #wk_model.P_out = P_out\n",
    "    \n",
    "    # Подсчёт C по SV.\n",
    "    C_SV = wk_model.get_C_from_SV(data_patients[\"SV\"][patient_id])\n",
    "    \n",
    "    # Подсчёт R по SV.\n",
    "    R_SV = wk_model.get_R_from_SV(data_patients[\"SV\"][patient_id])\n",
    "    \n",
    "    # ДИКИЙ СПОСОБ через минимизацию функционала.\n",
    "    max_dt = (wk_model.T[-1] - wk_model.T[0]) / 100\n",
    "    def Q_in_rhs(t, Q_in):\n",
    "        return wk_model.Q_in_rhs(t, Q_in)#.detach().numpy()\n",
    "    \n",
    "    def calc_SV(T, Q_in):\n",
    "        return simps(Q_in, T)\n",
    "    \n",
    "    def zero_Q_in_functional(x):\n",
    "        wk_model.C = x[0]\n",
    "        wk_model.R = RC / wk_model.C\n",
    "\n",
    "        # Получение Q_in.\n",
    "        result = solve_ivp(Q_in_rhs, (wk_model.T[0], wk_model.T[-1]), np.array([0.0]),\n",
    "                           t_eval=wk_model.T, max_step=max_dt, rtol=1.0)\n",
    "        Q_in = result.y[0]\n",
    "\n",
    "        # Получение расчётного времени, начиная с которого поток должен быть нулевым.\n",
    "        eds_index, eds_time = wk_model.get_exp_decay_start()\n",
    "\n",
    "        # Значение функционала.\n",
    "        _SV = calc_SV(T, Q_in)\n",
    "        value = (np.mean(np.abs(Q_in[eds_index:])) * (T[1] - T[0]))**2 + (_SV - data_patients[\"SV\"][patient_id])**2\n",
    "        # + 0.1 * (test_model.R - 0.5)**2\n",
    "\n",
    "        return value\n",
    "    \n",
    "    x0 = (C_SV)\n",
    "    minimize(zero_Q_in_functional, x0=x0, bounds=[(0.01, 100.0)])\n",
    "    \n",
    "    return [C_SV, RC / R_SV, wk_model.C]"
   ]
  },
  {
   "cell_type": "code",
   "execution_count": 16,
   "id": "designing-drill",
   "metadata": {
    "scrolled": true
   },
   "outputs": [
    {
     "name": "stdout",
     "output_type": "stream",
     "text": [
      "123313\n",
      "123645\n"
     ]
    },
    {
     "name": "stderr",
     "output_type": "stream",
     "text": [
      "/usr/lib/python3/dist-packages/scipy/optimize/minpack.py:828: OptimizeWarning: Covariance of the parameters could not be estimated\n",
      "  warnings.warn('Covariance of the parameters could not be estimated',\n"
     ]
    },
    {
     "name": "stdout",
     "output_type": "stream",
     "text": [
      "124235\n",
      "124238\n",
      "124625\n",
      "124627\n",
      "124871\n",
      "124942\n",
      "130589\n",
      "130166\n",
      "130469\n",
      "131003\n",
      "131255\n",
      "131663\n",
      "131658\n",
      "143725\n",
      "143922\n",
      "145789\n",
      "145796\n",
      "144957\n",
      "144726\n",
      "146300\n",
      "144237\n",
      "146798\n",
      "144717\n",
      "147382\n",
      "146896\n",
      "146887\n",
      "147393\n",
      "147394\n",
      "143846\n",
      "144777\n",
      "147541\n",
      "147728\n",
      "147549\n",
      "147738\n",
      "147790\n",
      "147793\n",
      "147953\n",
      "148193\n",
      "148272\n",
      "148202\n",
      "148343\n",
      "148348\n",
      "148353\n",
      "148413\n",
      "148426\n",
      "148795\n",
      "149160\n",
      "149217\n",
      "149222\n",
      "149280\n",
      "149604\n",
      "149671\n",
      "149718\n",
      "149669\n",
      "150445\n",
      "150447\n",
      "150529\n",
      "150535\n"
     ]
    }
   ],
   "source": [
    "params = np.array([get_C(patient_id) for patient_id in data_patients.index])\n",
    "data_patients[\"C_SV\"] = params[:,0]\n",
    "data_patients[\"C_R_SV\"] = params[:,1]\n",
    "data_patients[\"func_C\"] = params[:,2]"
   ]
  },
  {
   "cell_type": "markdown",
   "id": "coated-contributor",
   "metadata": {},
   "source": [
    "### Скорость пульсовой волны"
   ]
  },
  {
   "cell_type": "code",
   "execution_count": 17,
   "id": "sealed-ordinary",
   "metadata": {},
   "outputs": [
    {
     "data": {
      "text/plain": [
       "Text(0, 0.5, 'PWV')"
      ]
     },
     "execution_count": 17,
     "metadata": {},
     "output_type": "execute_result"
    },
    {
     "data": {
      "image/png": "[encoded data removed]",
      "text/plain": [
       "<Figure size 576x576 with 1 Axes>"
      ]
     },
     "metadata": {
      "needs_background": "light"
     },
     "output_type": "display_data"
    }
   ],
   "source": [
    "fig = plt.figure()\n",
    "ax = fig.gca()\n",
    "fig.set_figheight(8)\n",
    "fig.set_figwidth(8)\n",
    "ax.grid(color='#000000', alpha=0.15, linestyle='-', linewidth=1, which='major')\n",
    "ax.grid(color='#000000', alpha=0.1, linestyle='-', linewidth=0.5, which='minor')\n",
    "\n",
    "ax.scatter(data_patients[\"C_SV\"], data_patients[\"PWV_ba\"])\n",
    "\n",
    "ax.set_xlabel(\"C_SV\")\n",
    "ax.set_ylabel(\"PWV\")"
   ]
  },
  {
   "cell_type": "code",
   "execution_count": 18,
   "id": "dried-citation",
   "metadata": {},
   "outputs": [
    {
     "data": {
      "text/plain": [
       "Text(0, 0.5, 'PWV')"
      ]
     },
     "execution_count": 18,
     "metadata": {},
     "output_type": "execute_result"
    },
    {
     "data": {
      "image/png": "[encoded data removed]",
      "text/plain": [
       "<Figure size 576x576 with 1 Axes>"
      ]
     },
     "metadata": {
      "needs_background": "light"
     },
     "output_type": "display_data"
    }
   ],
   "source": [
    "fig = plt.figure()\n",
    "ax = fig.gca()\n",
    "fig.set_figheight(8)\n",
    "fig.set_figwidth(8)\n",
    "ax.grid(color='#000000', alpha=0.15, linestyle='-', linewidth=1, which='major')\n",
    "ax.grid(color='#000000', alpha=0.1, linestyle='-', linewidth=0.5, which='minor')\n",
    "\n",
    "ax.scatter(data_patients[\"C_R_SV\"], data_patients[\"PWV_ba\"])\n",
    "ax.set_xlim(right=5.0)\n",
    "\n",
    "ax.set_xlabel(\"C_R_SV\")\n",
    "ax.set_ylabel(\"PWV\")"
   ]
  },
  {
   "cell_type": "code",
   "execution_count": 19,
   "id": "consistent-essex",
   "metadata": {},
   "outputs": [
    {
     "data": {
      "text/plain": [
       "Text(0, 0.5, 'PWV')"
      ]
     },
     "execution_count": 19,
     "metadata": {},
     "output_type": "execute_result"
    },
    {
     "data": {
      "image/png": "[encoded data removed]",
      "text/plain": [
       "<Figure size 576x576 with 1 Axes>"
      ]
     },
     "metadata": {
      "needs_background": "light"
     },
     "output_type": "display_data"
    }
   ],
   "source": [
    "fig = plt.figure()\n",
    "ax = fig.gca()\n",
    "fig.set_figheight(8)\n",
    "fig.set_figwidth(8)\n",
    "ax.grid(color='#000000', alpha=0.15, linestyle='-', linewidth=1, which='major')\n",
    "ax.grid(color='#000000', alpha=0.1, linestyle='-', linewidth=0.5, which='minor')\n",
    "\n",
    "ax.scatter(data_patients[\"func_C\"], data_patients[\"PWV_ba\"])\n",
    "ax.set_xlim(right=5.0)\n",
    "\n",
    "ax.set_xlabel(\"func_C\")\n",
    "ax.set_ylabel(\"PWV\")"
   ]
  },
  {
   "cell_type": "markdown",
   "id": "controlling-physiology",
   "metadata": {},
   "source": [
    "### Возраст"
   ]
  },
  {
   "cell_type": "code",
   "execution_count": 27,
   "id": "female-jaguar",
   "metadata": {},
   "outputs": [
    {
     "data": {
      "text/plain": [
       "Text(0, 0.5, 'Возраст')"
      ]
     },
     "execution_count": 27,
     "metadata": {},
     "output_type": "execute_result"
    },
    {
     "data": {
      "image/png": "[encoded data removed]",
      "text/plain": [
       "<Figure size 576x576 with 1 Axes>"
      ]
     },
     "metadata": {
      "needs_background": "light"
     },
     "output_type": "display_data"
    }
   ],
   "source": [
    "fig = plt.figure()\n",
    "ax = fig.gca()\n",
    "fig.set_figheight(8)\n",
    "fig.set_figwidth(8)\n",
    "ax.grid(color='#000000', alpha=0.15, linestyle='-', linewidth=1, which='major')\n",
    "ax.grid(color='#000000', alpha=0.1, linestyle='-', linewidth=0.5, which='minor')\n",
    "\n",
    "ax.scatter(data_patients[\"C_SV\"], data_patients[\"Возраст\"])\n",
    "\n",
    "ax.set_xlabel(\"C_SV\")\n",
    "ax.set_ylabel(\"Возраст\")"
   ]
  },
  {
   "cell_type": "code",
   "execution_count": 25,
   "id": "cleared-parallel",
   "metadata": {},
   "outputs": [
    {
     "data": {
      "text/plain": [
       "Text(0, 0.5, 'Возраст')"
      ]
     },
     "execution_count": 25,
     "metadata": {},
     "output_type": "execute_result"
    },
    {
     "data": {
      "image/png": "[encoded data removed]",
      "text/plain": [
       "<Figure size 576x576 with 1 Axes>"
      ]
     },
     "metadata": {
      "needs_background": "light"
     },
     "output_type": "display_data"
    }
   ],
   "source": [
    "fig = plt.figure()\n",
    "ax = fig.gca()\n",
    "fig.set_figheight(8)\n",
    "fig.set_figwidth(8)\n",
    "ax.grid(color='#000000', alpha=0.15, linestyle='-', linewidth=1, which='major')\n",
    "ax.grid(color='#000000', alpha=0.1, linestyle='-', linewidth=0.5, which='minor')\n",
    "\n",
    "ax.scatter(data_patients[\"C_R_SV\"], data_patients[\"Возраст\"])\n",
    "ax.set_xlim(right=5.0)\n",
    "\n",
    "ax.set_xlabel(\"C_R_SV\")\n",
    "ax.set_ylabel(\"Возраст\")"
   ]
  },
  {
   "cell_type": "code",
   "execution_count": 26,
   "id": "operating-budapest",
   "metadata": {},
   "outputs": [
    {
     "data": {
      "text/plain": [
       "Text(0, 0.5, 'Возраст')"
      ]
     },
     "execution_count": 26,
     "metadata": {},
     "output_type": "execute_result"
    },
    {
     "data": {
      "image/png": "[encoded data removed]",
      "text/plain": [
       "<Figure size 576x576 with 1 Axes>"
      ]
     },
     "metadata": {
      "needs_background": "light"
     },
     "output_type": "display_data"
    }
   ],
   "source": [
    "fig = plt.figure()\n",
    "ax = fig.gca()\n",
    "fig.set_figheight(8)\n",
    "fig.set_figwidth(8)\n",
    "ax.grid(color='#000000', alpha=0.15, linestyle='-', linewidth=1, which='major')\n",
    "ax.grid(color='#000000', alpha=0.1, linestyle='-', linewidth=0.5, which='minor')\n",
    "\n",
    "ax.scatter(data_patients[\"func_C\"], data_patients[\"Возраст\"])\n",
    "ax.set_xlim(right=5.0)\n",
    "\n",
    "ax.set_xlabel(\"func_C\")\n",
    "ax.set_ylabel(\"Возраст\")"
   ]
  },
  {
   "cell_type": "code",
   "execution_count": 28,
   "id": "abandoned-conflict",
   "metadata": {},
   "outputs": [
    {
     "data": {
      "text/html": [
       "<div>\n",
       "<style scoped>\n",
       "    .dataframe tbody tr th:only-of-type {\n",
       "        vertical-align: middle;\n",
       "    }\n",
       "\n",
       "    .dataframe tbody tr th {\n",
       "        vertical-align: top;\n",
       "    }\n",
       "\n",
       "    .dataframe thead th {\n",
       "        text-align: right;\n",
       "    }\n",
       "</style>\n",
       "<table border=\"1\" class=\"dataframe\">\n",
       "  <thead>\n",
       "    <tr style=\"text-align: right;\">\n",
       "      <th></th>\n",
       "      <th>Возраст</th>\n",
       "      <th>PWV_ba</th>\n",
       "      <th>C_SV</th>\n",
       "      <th>C_R_SV</th>\n",
       "      <th>func_C</th>\n",
       "    </tr>\n",
       "  </thead>\n",
       "  <tbody>\n",
       "    <tr>\n",
       "      <th>Возраст</th>\n",
       "      <td>1.000000</td>\n",
       "      <td>0.739015</td>\n",
       "      <td>0.379184</td>\n",
       "      <td>-0.113653</td>\n",
       "      <td>-0.316535</td>\n",
       "    </tr>\n",
       "    <tr>\n",
       "      <th>PWV_ba</th>\n",
       "      <td>0.739015</td>\n",
       "      <td>1.000000</td>\n",
       "      <td>0.362700</td>\n",
       "      <td>-0.167242</td>\n",
       "      <td>-0.325345</td>\n",
       "    </tr>\n",
       "    <tr>\n",
       "      <th>C_SV</th>\n",
       "      <td>0.379184</td>\n",
       "      <td>0.362700</td>\n",
       "      <td>1.000000</td>\n",
       "      <td>-0.125079</td>\n",
       "      <td>-0.332851</td>\n",
       "    </tr>\n",
       "    <tr>\n",
       "      <th>C_R_SV</th>\n",
       "      <td>-0.113653</td>\n",
       "      <td>-0.167242</td>\n",
       "      <td>-0.125079</td>\n",
       "      <td>1.000000</td>\n",
       "      <td>0.766375</td>\n",
       "    </tr>\n",
       "    <tr>\n",
       "      <th>func_C</th>\n",
       "      <td>-0.316535</td>\n",
       "      <td>-0.325345</td>\n",
       "      <td>-0.332851</td>\n",
       "      <td>0.766375</td>\n",
       "      <td>1.000000</td>\n",
       "    </tr>\n",
       "  </tbody>\n",
       "</table>\n",
       "</div>"
      ],
      "text/plain": [
       "          Возраст    PWV_ba      C_SV    C_R_SV    func_C\n",
       "Возраст  1.000000  0.739015  0.379184 -0.113653 -0.316535\n",
       "PWV_ba   0.739015  1.000000  0.362700 -0.167242 -0.325345\n",
       "C_SV     0.379184  0.362700  1.000000 -0.125079 -0.332851\n",
       "C_R_SV  -0.113653 -0.167242 -0.125079  1.000000  0.766375\n",
       "func_C  -0.316535 -0.325345 -0.332851  0.766375  1.000000"
      ]
     },
     "execution_count": 28,
     "metadata": {},
     "output_type": "execute_result"
    }
   ],
   "source": [
    "data_patients[[\"Возраст\", \"PWV_ba\", \"C_SV\", \"C_R_SV\", \"func_C\"]].corr()"
   ]
  },
  {
   "cell_type": "code",
   "execution_count": 29,
   "id": "commercial-angola",
   "metadata": {},
   "outputs": [
    {
     "data": {
      "text/html": [
       "<div>\n",
       "<style scoped>\n",
       "    .dataframe tbody tr th:only-of-type {\n",
       "        vertical-align: middle;\n",
       "    }\n",
       "\n",
       "    .dataframe tbody tr th {\n",
       "        vertical-align: top;\n",
       "    }\n",
       "\n",
       "    .dataframe thead th {\n",
       "        text-align: right;\n",
       "    }\n",
       "</style>\n",
       "<table border=\"1\" class=\"dataframe\">\n",
       "  <thead>\n",
       "    <tr style=\"text-align: right;\">\n",
       "      <th></th>\n",
       "      <th>Возраст</th>\n",
       "      <th>PWV_ba</th>\n",
       "      <th>C_SV</th>\n",
       "      <th>C_R_SV</th>\n",
       "      <th>func_C</th>\n",
       "    </tr>\n",
       "  </thead>\n",
       "  <tbody>\n",
       "    <tr>\n",
       "      <th>Возраст</th>\n",
       "      <td>1.000000</td>\n",
       "      <td>0.772004</td>\n",
       "      <td>0.439193</td>\n",
       "      <td>-0.342018</td>\n",
       "      <td>-0.451155</td>\n",
       "    </tr>\n",
       "    <tr>\n",
       "      <th>PWV_ba</th>\n",
       "      <td>0.772004</td>\n",
       "      <td>1.000000</td>\n",
       "      <td>0.252601</td>\n",
       "      <td>-0.242015</td>\n",
       "      <td>-0.371577</td>\n",
       "    </tr>\n",
       "    <tr>\n",
       "      <th>C_SV</th>\n",
       "      <td>0.439193</td>\n",
       "      <td>0.252601</td>\n",
       "      <td>1.000000</td>\n",
       "      <td>-0.329703</td>\n",
       "      <td>-0.397944</td>\n",
       "    </tr>\n",
       "    <tr>\n",
       "      <th>C_R_SV</th>\n",
       "      <td>-0.342018</td>\n",
       "      <td>-0.242015</td>\n",
       "      <td>-0.329703</td>\n",
       "      <td>1.000000</td>\n",
       "      <td>0.888037</td>\n",
       "    </tr>\n",
       "    <tr>\n",
       "      <th>func_C</th>\n",
       "      <td>-0.451155</td>\n",
       "      <td>-0.371577</td>\n",
       "      <td>-0.397944</td>\n",
       "      <td>0.888037</td>\n",
       "      <td>1.000000</td>\n",
       "    </tr>\n",
       "  </tbody>\n",
       "</table>\n",
       "</div>"
      ],
      "text/plain": [
       "          Возраст    PWV_ba      C_SV    C_R_SV    func_C\n",
       "Возраст  1.000000  0.772004  0.439193 -0.342018 -0.451155\n",
       "PWV_ba   0.772004  1.000000  0.252601 -0.242015 -0.371577\n",
       "C_SV     0.439193  0.252601  1.000000 -0.329703 -0.397944\n",
       "C_R_SV  -0.342018 -0.242015 -0.329703  1.000000  0.888037\n",
       "func_C  -0.451155 -0.371577 -0.397944  0.888037  1.000000"
      ]
     },
     "execution_count": 29,
     "metadata": {},
     "output_type": "execute_result"
    }
   ],
   "source": [
    "data_patients[[\"Возраст\", \"PWV_ba\", \"C_SV\", \"C_R_SV\", \"func_C\"]].corr(method='spearman')"
   ]
  },
  {
   "cell_type": "code",
   "execution_count": null,
   "id": "veterinary-mountain",
   "metadata": {},
   "outputs": [],
   "source": []
  }
 ],
 "metadata": {
  "kernelspec": {
   "display_name": "Python 3",
   "language": "python",
   "name": "python3"
  },
  "language_info": {
   "codemirror_mode": {
    "name": "ipython",
    "version": 3
   },
   "file_extension": ".py",
   "mimetype": "text/x-python",
   "name": "python",
   "nbconvert_exporter": "python",
   "pygments_lexer": "ipython3",
   "version": "3.9.2"
  }
 },
 "nbformat": 4,
 "nbformat_minor": 5
}
