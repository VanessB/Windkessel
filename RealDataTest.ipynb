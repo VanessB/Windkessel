{
 "cells": [
  {
   "cell_type": "markdown",
   "id": "blocked-behavior",
   "metadata": {},
   "source": [
    "# Windkessel"
   ]
  },
  {
   "cell_type": "code",
   "execution_count": 1,
   "id": "communist-location",
   "metadata": {},
   "outputs": [],
   "source": [
    "import numpy as np\n",
    "import torch"
   ]
  },
  {
   "cell_type": "code",
   "execution_count": 2,
   "id": "underlying-voluntary",
   "metadata": {},
   "outputs": [],
   "source": [
    "import pandas as pd"
   ]
  },
  {
   "cell_type": "code",
   "execution_count": 3,
   "id": "hydraulic-arrest",
   "metadata": {},
   "outputs": [],
   "source": [
    "import matplotlib\n",
    "import matplotlib.pyplot as plt\n",
    "\n",
    "font = {'family' : 'Liberation Sans',\n",
    "        'weight' : 'normal',\n",
    "        'size'   : 20}\n",
    "\n",
    "matplotlib.rc('font', **font)"
   ]
  },
  {
   "cell_type": "code",
   "execution_count": 4,
   "id": "previous-passenger",
   "metadata": {},
   "outputs": [],
   "source": [
    "import sys\n",
    "sys.path.insert(0, './python')"
   ]
  },
  {
   "cell_type": "code",
   "execution_count": 5,
   "id": "banner-contact",
   "metadata": {},
   "outputs": [],
   "source": [
    "from windkessel import model, utils"
   ]
  },
  {
   "cell_type": "code",
   "execution_count": 6,
   "id": "ahead-bolivia",
   "metadata": {},
   "outputs": [],
   "source": [
    "patient_id = 146300"
   ]
  },
  {
   "cell_type": "markdown",
   "id": "selected-welsh",
   "metadata": {},
   "source": [
    "### Получение $ Q_{in}(t) $ по $ P(t) $"
   ]
  },
  {
   "cell_type": "code",
   "execution_count": 7,
   "id": "superb-archives",
   "metadata": {},
   "outputs": [],
   "source": [
    "test_model = model.WindkesselModel()"
   ]
  },
  {
   "cell_type": "code",
   "execution_count": 8,
   "id": "derived-holocaust",
   "metadata": {},
   "outputs": [],
   "source": [
    "from scipy.integrate import solve_ivp"
   ]
  },
  {
   "cell_type": "code",
   "execution_count": 9,
   "id": "further-morocco",
   "metadata": {},
   "outputs": [],
   "source": [
    "def plot_x_y(x, y, x_label=\"x\", y_label=\"y\"):\n",
    "    fig = plt.figure()\n",
    "    ax = fig.gca()\n",
    "    fig.set_figheight(8)\n",
    "    fig.set_figwidth(16)\n",
    "    ax.grid(color='#000000', alpha=0.15, linestyle='-', linewidth=1, which='major')\n",
    "    ax.grid(color='#000000', alpha=0.1, linestyle='-', linewidth=0.5, which='minor')\n",
    "    \n",
    "    ax.plot(x, y)\n",
    "    \n",
    "    ax.set_xlabel(x_label)\n",
    "    ax.set_ylabel(y_label)"
   ]
  },
  {
   "cell_type": "code",
   "execution_count": 10,
   "id": "physical-annotation",
   "metadata": {},
   "outputs": [
    {
     "name": "stderr",
     "output_type": "stream",
     "text": [
      "<ipython-input-10-0a40c18fbbd5>:1: ParserWarning: Falling back to the 'python' engine because the 'c' engine does not support regex separators (separators > 1 char and different from '\\s+' are interpreted as regex); you can avoid this warning by specifying engine='python'.\n",
      "  tp = pd.read_csv(f'data/{patient_id}.csv', header = None, sep = '; ')\n"
     ]
    }
   ],
   "source": [
    "tp = pd.read_csv(f'data/{patient_id}.csv', header = None, sep = '; ')"
   ]
  },
  {
   "cell_type": "code",
   "execution_count": 11,
   "id": "automated-morning",
   "metadata": {},
   "outputs": [],
   "source": [
    "# t в секундах, p в мм.рт.ст.\n",
    "tp = tp.rename({0 :'t', 1: 'p'}, axis = 1)\n",
    "tp = tp.sort_values(by=['t'])"
   ]
  },
  {
   "cell_type": "code",
   "execution_count": 12,
   "id": "champion-wrong",
   "metadata": {},
   "outputs": [],
   "source": [
    "#Из эксперимента\n",
    "T = np.array(tp['t'])\n",
    "P = np.array(tp['p'])"
   ]
  },
  {
   "cell_type": "code",
   "execution_count": null,
   "id": "suited-vintage",
   "metadata": {},
   "outputs": [],
   "source": [
    "plot_x_y(T, P, \"$ t $, с\", \"$ P $, мм рт.ст.\")"
   ]
  },
  {
   "cell_type": "code",
   "execution_count": null,
   "id": "pleasant-teaching",
   "metadata": {},
   "outputs": [],
   "source": [
    "# Фильтрация.\n",
    "interp1d_params = {}\n",
    "savgol_filter_params = {\"window_length\": 9, \"polyorder\": 3, \"mode\": \"nearest\"}\n",
    "\n",
    "T, P = utils.nonuniform_savgol_filter(T, P,\n",
    "        interp1d_params=interp1d_params, savgol_filter_params=savgol_filter_params)\n",
    "\n",
    "# Производная.\n",
    "savgol_filter_params[\"deriv\"] = 1\n",
    "T, der_P = utils.nonuniform_savgol_filter(T, P,\n",
    "        interp1d_params=interp1d_params, savgol_filter_params=savgol_filter_params)"
   ]
  },
  {
   "cell_type": "code",
   "execution_count": null,
   "id": "pleased-brooklyn",
   "metadata": {
    "scrolled": false
   },
   "outputs": [],
   "source": [
    "plot_x_y(T, P, \"$ t $, с\", \"$ P $, мм рт.ст.\")"
   ]
  },
  {
   "cell_type": "code",
   "execution_count": null,
   "id": "radical-turner",
   "metadata": {},
   "outputs": [],
   "source": [
    "def Q_in_rhs(t, Q_in):\n",
    "    return test_model.Q_in_rhs(t, Q_in)#.detach().numpy()"
   ]
  },
  {
   "cell_type": "code",
   "execution_count": null,
   "id": "automotive-island",
   "metadata": {},
   "outputs": [],
   "source": [
    "test_model.set_P(T, P, der_P)"
   ]
  },
  {
   "cell_type": "code",
   "execution_count": null,
   "id": "ruled-thursday",
   "metadata": {},
   "outputs": [],
   "source": [
    "plot_x_y(T, test_model.der_P, \"$ t $, с\", \"$ dP/dt $, мм рт.ст. / с\")"
   ]
  },
  {
   "cell_type": "code",
   "execution_count": null,
   "id": "alien-calendar",
   "metadata": {},
   "outputs": [],
   "source": [
    "n_cycles = 5\n",
    "new_T = np.linspace(T[0], T[0] + (T[-1] - T[0]) * n_cycles, T.shape[0] * n_cycles)"
   ]
  },
  {
   "cell_type": "code",
   "execution_count": null,
   "id": "mathematical-fitness",
   "metadata": {},
   "outputs": [],
   "source": [
    "result = solve_ivp(Q_in_rhs, (new_T[0], new_T[-1]), np.array([0.0]), t_eval = new_T)"
   ]
  },
  {
   "cell_type": "code",
   "execution_count": null,
   "id": "early-kuwait",
   "metadata": {},
   "outputs": [],
   "source": [
    "numerical_Q_in = result.y[0]"
   ]
  },
  {
   "cell_type": "code",
   "execution_count": null,
   "id": "senior-module",
   "metadata": {},
   "outputs": [],
   "source": [
    "plot_x_y(new_T, numerical_Q_in, \"$ t $, с\", \"$ Q_{in} $, мл/с\")"
   ]
  },
  {
   "cell_type": "code",
   "execution_count": null,
   "id": "careful-description",
   "metadata": {},
   "outputs": [],
   "source": []
  }
 ],
 "metadata": {
  "kernelspec": {
   "display_name": "Python 3",
   "language": "python",
   "name": "python3"
  },
  "language_info": {
   "codemirror_mode": {
    "name": "ipython",
    "version": 3
   },
   "file_extension": ".py",
   "mimetype": "text/x-python",
   "name": "python",
   "nbconvert_exporter": "python",
   "pygments_lexer": "ipython3",
   "version": "3.9.2"
  }
 },
 "nbformat": 4,
 "nbformat_minor": 5
}
