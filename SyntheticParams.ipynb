{
 "cells": [
  {
   "cell_type": "markdown",
   "id": "collective-caution",
   "metadata": {},
   "source": [
    "# Synthetic parameters\n",
    "\n",
    "Получение параметров модели методом подгонки синтетического $ P(t) $ под измеренное."
   ]
  },
  {
   "cell_type": "code",
   "execution_count": null,
   "id": "quality-grass",
   "metadata": {},
   "outputs": [],
   "source": [
    "import numpy as np"
   ]
  },
  {
   "cell_type": "code",
   "execution_count": null,
   "id": "medical-purpose",
   "metadata": {},
   "outputs": [],
   "source": [
    "import pandas as pd"
   ]
  },
  {
   "cell_type": "code",
   "execution_count": null,
   "id": "described-tokyo",
   "metadata": {},
   "outputs": [],
   "source": [
    "import sys\n",
    "sys.path.insert(0, './python')"
   ]
  },
  {
   "cell_type": "code",
   "execution_count": null,
   "id": "proof-monthly",
   "metadata": {},
   "outputs": [],
   "source": [
    "from windkessel import model, utils"
   ]
  },
  {
   "cell_type": "code",
   "execution_count": null,
   "id": "sharing-weather",
   "metadata": {},
   "outputs": [],
   "source": [
    "import re\n",
    "from os import listdir\n",
    "\n",
    "filenames = listdir(\"./data\")\n",
    "IDs = [int(filename[0:-4]) for filename in filenames if re.match(r\".\\d*\\.csv$\", filename)]"
   ]
  },
  {
   "cell_type": "markdown",
   "id": "excessive-knight",
   "metadata": {},
   "source": [
    "## Данные о пациентах"
   ]
  },
  {
   "cell_type": "code",
   "execution_count": null,
   "id": "verbal-niger",
   "metadata": {},
   "outputs": [],
   "source": [
    "def prepare_data(data_frame):\n",
    "    data_frame = data_frame[data_frame.index.notnull()]\n",
    "    data_frame.index = data_frame.index.astype('uint64')\n",
    "    data_frame = data_frame.drop(columns=[\"ФИО\"])\n",
    "    return data_frame"
   ]
  },
  {
   "cell_type": "code",
   "execution_count": null,
   "id": "wooden-township",
   "metadata": {},
   "outputs": [],
   "source": [
    "data_patients = prepare_data(pd.read_excel(f'data/data_patients.xlsx', index_col=\"ID\"))\n",
    "data_PWV = prepare_data(pd.read_excel(f'data/data_PWV.xlsx', index_col=\"ID\"))"
   ]
  },
  {
   "cell_type": "code",
   "execution_count": null,
   "id": "related-trust",
   "metadata": {},
   "outputs": [],
   "source": [
    "data_patients = data_patients[data_patients.index.isin(IDs)]\n",
    "data_patients = data_patients.join(data_PWV[\"PWV_ba\"])"
   ]
  },
  {
   "cell_type": "code",
   "execution_count": null,
   "id": "complex-perspective",
   "metadata": {},
   "outputs": [],
   "source": [
    "def get_params(patient_id):\n",
    "    print(patient_id)\n",
    "    \n",
    "    # Создание модели.\n",
    "    wk_model = model.WindkesselModel()\n",
    "    \n",
    "    # Получение данных.\n",
    "    tp = pd.read_csv(f'data/{patient_id}.csv', header = None, sep = ' ')\n",
    "    \n",
    "    # t в секундах, p в мм.рт.ст.\n",
    "    tp = tp.rename({0 :'t', 1: 'p'}, axis = 1)\n",
    "    tp = tp.sort_values(by=['t'])\n",
    "    \n",
    "    T = np.array(tp['t'])\n",
    "    P = np.array(tp['p'])\n",
    "    \n",
    "    # Фильтрация.\n",
    "    n_points = 200\n",
    "    interp1d_params = {}\n",
    "    savgol_filter_params = {\"window_length\": 9, \"polyorder\": 3, \"mode\": \"nearest\"}\n",
    "\n",
    "    T, P = utils.nonuniform_savgol_filter(T, P, n_points=n_points,\n",
    "            interp1d_params=interp1d_params, savgol_filter_params=savgol_filter_params)\n",
    "\n",
    "    # Производная.\n",
    "    savgol_filter_params[\"deriv\"] = 1\n",
    "    T, der_P = utils.nonuniform_savgol_filter(T, P, n_points=n_points,\n",
    "            interp1d_params=interp1d_params, savgol_filter_params=savgol_filter_params)\n",
    "    \n",
    "    wk_model.set_P(T, P, der_P)\n",
    "    \n",
    "    # Подсчёт C методом подгонки синтетических данных.\n",
    "    result = wk_model.get_synthetic_artery_params()\n",
    "    T_max, T_s, T_d, Q_max, R_f, R, Z_0, C, P_out = result.x\n",
    "    \n",
    "    return [T_max, T_s, T_d, Q_max, R_f, R, Z_0, C, P_out]"
   ]
  },
  {
   "cell_type": "code",
   "execution_count": null,
   "id": "sixth-planner",
   "metadata": {},
   "outputs": [],
   "source": [
    "windkessel_params = pd.DataFrame(index = data_patients.index)"
   ]
  },
  {
   "cell_type": "code",
   "execution_count": null,
   "id": "metallic-toyota",
   "metadata": {},
   "outputs": [],
   "source": [
    "params = np.array([get_params(patient_id) for patient_id in data_patients.index])\n",
    "\n",
    "windkessel_params[\"T_max\"] = params[:,0]\n",
    "windkessel_params[\"T_s\"]   = params[:,1]\n",
    "windkessel_params[\"T_d\"]   = params[:,2]\n",
    "windkessel_params[\"Q_max\"] = params[:,3]\n",
    "windkessel_params[\"R_f\"]   = params[:,4]\n",
    "windkessel_params[\"R\"]     = params[:,5]\n",
    "windkessel_params[\"Z_0\"]   = params[:,6]\n",
    "windkessel_params[\"C\"]     = params[:,7]\n",
    "windkessel_params[\"P_out\"] = params[:,8]"
   ]
  },
  {
   "cell_type": "code",
   "execution_count": null,
   "id": "practical-entrepreneur",
   "metadata": {},
   "outputs": [],
   "source": [
    "windkessel_params.to_csv(\"./data/windkessel_params.csv\", sep=' ')"
   ]
  }
 ],
 "metadata": {
  "kernelspec": {
   "display_name": "Python 3",
   "language": "python",
   "name": "python3"
  },
  "language_info": {
   "codemirror_mode": {
    "name": "ipython",
    "version": 3
   },
   "file_extension": ".py",
   "mimetype": "text/x-python",
   "name": "python",
   "nbconvert_exporter": "python",
   "pygments_lexer": "ipython3",
   "version": "3.9.2"
  }
 },
 "nbformat": 4,
 "nbformat_minor": 5
}
